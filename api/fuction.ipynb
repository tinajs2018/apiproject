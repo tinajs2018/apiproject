{
 "cells": [
  {
   "cell_type": "code",
   "execution_count": 1,
   "metadata": {},
   "outputs": [
    {
     "name": "stdout",
     "output_type": "stream",
     "text": [
      "the additinal resuklts  of 34 and 98 is equal to 132\n"
     ]
    }
   ],
   "source": [
    "def add (num1:int,num2:int)-> int:\n",
    "    num3 = num1 + num2\n",
    "    return num3\n",
    "num1,num2 = 34,98\n",
    "\n",
    "asw = add(num1 ,num2)\n",
    "print (f\"the additinal resuklts  of {num1} and {num2} is equal to {asw}\")"
   ]
  },
  {
   "cell_type": "code",
   "execution_count": 2,
   "metadata": {},
   "outputs": [
    {
     "name": "stdout",
     "output_type": "stream",
     "text": [
      "odd\n"
     ]
    }
   ],
   "source": [
    "#fuction for checking even or odd\n",
    "\n",
    "def even_odd(x):\n",
    "    if (x%2 ==0 ) :\n",
    "        print(\"Even\")\n",
    "    else:\n",
    "        print (\"odd\")\n",
    "even_odd(7)"
   ]
  },
  {
   "cell_type": "code",
   "execution_count": 3,
   "metadata": {},
   "outputs": [
    {
     "name": "stdout",
     "output_type": "stream",
     "text": [
      "Even\n"
     ]
    }
   ],
   "source": [
    "even_odd(8)"
   ]
  },
  {
   "cell_type": "code",
   "execution_count": 6,
   "metadata": {},
   "outputs": [
    {
     "name": "stdout",
     "output_type": "stream",
     "text": [
      "hello alisom\n"
     ]
    }
   ],
   "source": [
    "def  greating(name):\n",
    "    print(f\"hello {name}\")\n",
    "\n",
    "greating('alisom')"
   ]
  },
  {
   "cell_type": "code",
   "execution_count": 7,
   "metadata": {},
   "outputs": [
    {
     "data": {
      "text/plain": [
       "16"
      ]
     },
     "execution_count": 7,
     "metadata": {},
     "output_type": "execute_result"
    }
   ],
   "source": [
    "def  square (num):\n",
    "    return num*num\n",
    "square(4)"
   ]
  },
  {
   "cell_type": "code",
   "execution_count": 11,
   "metadata": {},
   "outputs": [
    {
     "data": {
      "text/plain": [
       "(6, 3)"
      ]
     },
     "execution_count": 11,
     "metadata": {},
     "output_type": "execute_result"
    }
   ],
   "source": [
    "def divid(a,b):\n",
    "    quo= a//b\n",
    "    remider = a%b\n",
    "    return quo,remider\n",
    "\n",
    "divid(39,6)"
   ]
  },
  {
   "cell_type": "code",
   "execution_count": 17,
   "metadata": {},
   "outputs": [
    {
     "data": {
      "text/plain": [
       "351.75"
      ]
     },
     "execution_count": 17,
     "metadata": {},
     "output_type": "execute_result"
    }
   ],
   "source": [
    "def cal_tip(billamount ,tip_per =0.15):\n",
    "    tip =billamount * tip_per\n",
    "    return tip\n",
    "\n",
    "cal_tip(2345)"
   ]
  },
  {
   "cell_type": "code",
   "execution_count": 29,
   "metadata": {},
   "outputs": [
    {
     "ename": "RecursionError",
     "evalue": "maximum recursion depth exceeded",
     "output_type": "error",
     "traceback": [
      "\u001b[1;31m---------------------------------------------------------------------------\u001b[0m",
      "\u001b[1;31mRecursionError\u001b[0m                            Traceback (most recent call last)",
      "Cell \u001b[1;32mIn[29], line 10\u001b[0m\n\u001b[0;32m      8\u001b[0m tagetx \u001b[38;5;241m=\u001b[39m\u001b[38;5;241m78\u001b[39m\n\u001b[0;32m      9\u001b[0m consumed_water\u001b[38;5;241m=\u001b[39m[\u001b[38;5;241m3\u001b[39m,\u001b[38;5;241m5\u001b[39m,\u001b[38;5;241m67\u001b[39m,\u001b[38;5;241m8\u001b[39m]\n\u001b[1;32m---> 10\u001b[0m resu \u001b[38;5;241m=\u001b[39mwater_track(tagetx,consumed_water)\n",
      "Cell \u001b[1;32mIn[29], line 2\u001b[0m, in \u001b[0;36mwater_track\u001b[1;34m(taget, *water_amount)\u001b[0m\n\u001b[0;32m      1\u001b[0m \u001b[38;5;28;01mdef\u001b[39;00m \u001b[38;5;21mwater_track\u001b[39m(taget ,\u001b[38;5;241m*\u001b[39mwater_amount):\n\u001b[1;32m----> 2\u001b[0m     total_water \u001b[38;5;241m=\u001b[39m\u001b[38;5;28msum\u001b[39m(water_amount)\n\u001b[0;32m      3\u001b[0m     \u001b[38;5;28;01mif\u001b[39;00m total_water \u001b[38;5;241m>\u001b[39m\u001b[38;5;241m=\u001b[39mtaget:\n\u001b[0;32m      4\u001b[0m         \u001b[38;5;28;01mreturn\u001b[39;00m \u001b[38;5;124m\"\u001b[39m\u001b[38;5;124mGaol achieved stay hadyated\u001b[39m\u001b[38;5;124m\"\u001b[39m\n",
      "Cell \u001b[1;32mIn[10], line 3\u001b[0m, in \u001b[0;36msum\u001b[1;34m(*args)\u001b[0m\n\u001b[0;32m      2\u001b[0m \u001b[38;5;28;01mdef\u001b[39;00m \u001b[38;5;21msum\u001b[39m(\u001b[38;5;241m*\u001b[39margs):\n\u001b[1;32m----> 3\u001b[0m     \u001b[38;5;28;01mreturn\u001b[39;00m \u001b[38;5;28msum\u001b[39m(args)\n",
      "Cell \u001b[1;32mIn[10], line 3\u001b[0m, in \u001b[0;36msum\u001b[1;34m(*args)\u001b[0m\n\u001b[0;32m      2\u001b[0m \u001b[38;5;28;01mdef\u001b[39;00m \u001b[38;5;21msum\u001b[39m(\u001b[38;5;241m*\u001b[39margs):\n\u001b[1;32m----> 3\u001b[0m     \u001b[38;5;28;01mreturn\u001b[39;00m \u001b[38;5;28msum\u001b[39m(args)\n",
      "    \u001b[1;31m[... skipping similar frames: sum at line 3 (2970 times)]\u001b[0m\n",
      "Cell \u001b[1;32mIn[10], line 3\u001b[0m, in \u001b[0;36msum\u001b[1;34m(*args)\u001b[0m\n\u001b[0;32m      2\u001b[0m \u001b[38;5;28;01mdef\u001b[39;00m \u001b[38;5;21msum\u001b[39m(\u001b[38;5;241m*\u001b[39margs):\n\u001b[1;32m----> 3\u001b[0m     \u001b[38;5;28;01mreturn\u001b[39;00m \u001b[38;5;28msum\u001b[39m(args)\n",
      "\u001b[1;31mRecursionError\u001b[0m: maximum recursion depth exceeded"
     ]
    }
   ],
   "source": [
    "def water_track(taget ,*water_amount):\n",
    "    total_water =sum(water_amount)\n",
    "    if total_water >=taget:\n",
    "        return \"Gaol achieved stay hadyated\"\n",
    "    else:\n",
    "        return f\"you need to drinnk {taget} -{total_water} more to stay hdtared today\"\n",
    "    \n",
    "tagetx =78\n",
    "consumed_water=[3,5,67,8]\n",
    "resu =water_track(tagetx,consumed_water)\n",
    " "
   ]
  },
  {
   "cell_type": "code",
   "execution_count": 26,
   "metadata": {},
   "outputs": [],
   "source": [
    "def add_task(todo_list, new_task):\n",
    "    \"\"\"Adds a new task to a to-do list.\"\"\"\n",
    "    todo_list.append(new_task)\n",
    "    return todo_list\n",
    "\n"
   ]
  },
  {
   "cell_type": "code",
   "execution_count": 25,
   "metadata": {},
   "outputs": [
    {
     "name": "stdout",
     "output_type": "stream",
     "text": [
      "['Task 1', 'Task 2', 'Task 3', 'Task 4']\n"
     ]
    }
   ],
   "source": [
    "# Example of calling add_task\n",
    "my_todo_list = [\"Task 1\", \"Task 2\", \"Task 3\"]\n",
    "new_task_to_add = \"Task 4\"\n",
    "\n",
    "result_todo_list = add_task(my_todo_list, new_task_to_add)\n",
    "\n",
    "# Print or use the result_todo_list as needed\n",
    "print(result_todo_list)\n"
   ]
  },
  {
   "cell_type": "code",
   "execution_count": 28,
   "metadata": {},
   "outputs": [
    {
     "name": "stdout",
     "output_type": "stream",
     "text": [
      "['meaga', 'luke', 'daniel', '; lose', 'cate']\n"
     ]
    }
   ],
   "source": [
    "def add_list (list ,new):\n",
    "    list.append(new)\n",
    "    return list\n",
    "listx=['meaga' ,'luke','daniel','; lose']\n",
    "newd='cate'\n",
    "final =add_list(listx,newd)\n",
    "print(final)\n",
    "    "
   ]
  },
  {
   "cell_type": "code",
   "execution_count": 31,
   "metadata": {},
   "outputs": [
    {
     "name": "stdout",
     "output_type": "stream",
     "text": [
      "expore more option in  the bookstore\n"
     ]
    }
   ],
   "source": [
    "#personalised book\n",
    "def generated (grenre ,reading_level):\n",
    "    if grenre =='mystre' and reading_level =='advanced':\n",
    "        return \"try'The advneture by sjeock'by autir\"\n",
    "    elif grenre =='science  fiction' and reading_level =='advanced':\n",
    "        return \"cosnider'Dune'by  alexf  for halllange read\"\n",
    "    else:\n",
    "        return \"expore more option in  the bookstore\"\n",
    "usergere =\"mystre\"\n",
    "user_reading=\"avanced\"\n",
    "\n",
    "rec =generated(usergere,user_reading)\n",
    "\n",
    "print(rec)"
   ]
  },
  {
   "cell_type": "code",
   "execution_count": 33,
   "metadata": {},
   "outputs": [
    {
     "name": "stdout",
     "output_type": "stream",
     "text": [
      "try'The advneture by sjeock'by autir\n"
     ]
    }
   ],
   "source": [
    "print(generated('mystre','advanced'))"
   ]
  },
  {
   "cell_type": "code",
   "execution_count": 35,
   "metadata": {},
   "outputs": [
    {
     "data": {
      "text/plain": [
       "'Email sent to expore more option in  the bookstore for starting a new conpany  aboutMr presedent am writing to you to rent you know that tommow my comany willl go live i expect  your support and coperation'"
      ]
     },
     "execution_count": 35,
     "metadata": {},
     "output_type": "execute_result"
    }
   ],
   "source": [
    "def send_email(rece,subject ,content):\n",
    "    \"\"\"sending the automated email\"\"\"\n",
    "    return f\"Email sent to {rec} for {subject}  about{content}\"\n",
    "\n",
    "emai=\"christinekarimi350@gmail.com\"\n",
    "sub='starting a new conpany'\n",
    "vital=\"Mr presedent am writing to you to rent you know that tommow my comany willl go live i expect  your support and coperation\"\n",
    "send_email(emai,sub,vital)"
   ]
  },
  {
   "cell_type": "code",
   "execution_count": 37,
   "metadata": {},
   "outputs": [
    {
     "name": "stdout",
     "output_type": "stream",
     "text": [
      "{'book': 1, 'cake': 2, 'laptop': 1}\n"
     ]
    }
   ],
   "source": [
    "#managing the cart\n",
    "def addcart(cart,item,quantity =1):\n",
    "    \"\"\"Adding ite into the cart\"\"\"\n",
    "    cart[item] =cart.get(item,0) +quantity\n",
    "    return cart\n",
    "\n",
    "# Corrected shopping_cart initialization as a dictionary\n",
    "shopping_cart = {\"book\": 1, \"cake\": 2}\n",
    "\n",
    "item_to_add = 'laptop'\n",
    "\n",
    "# Call the function\n",
    "updated_cart = addcart(shopping_cart, item_to_add)\n",
    "\n",
    "# Print or use the updated_cart as needed\n",
    "print(updated_cart)\n"
   ]
  },
  {
   "cell_type": "code",
   "execution_count": null,
   "metadata": {},
   "outputs": [],
   "source": []
  }
 ],
 "metadata": {
  "kernelspec": {
   "display_name": "base",
   "language": "python",
   "name": "python3"
  },
  "language_info": {
   "codemirror_mode": {
    "name": "ipython",
    "version": 3
   },
   "file_extension": ".py",
   "mimetype": "text/x-python",
   "name": "python",
   "nbconvert_exporter": "python",
   "pygments_lexer": "ipython3",
   "version": "3.11.5"
  }
 },
 "nbformat": 4,
 "nbformat_minor": 2
}
